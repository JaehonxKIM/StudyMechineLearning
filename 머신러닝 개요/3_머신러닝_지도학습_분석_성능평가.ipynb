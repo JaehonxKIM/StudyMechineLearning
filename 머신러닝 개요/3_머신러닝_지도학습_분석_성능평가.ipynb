{
  "nbformat": 4,
  "nbformat_minor": 0,
  "metadata": {
    "colab": {
      "name": "3.머신러닝_지도학습_분석_성능평가.ipynb",
      "provenance": [],
      "collapsed_sections": [
        "Aag9YB3Re4PE",
        "V_fUMqcefTWG",
        "OlgHKo-vgaVx",
        "-AjWx5FOga9B",
        "h-P9vx1zgaqF"
      ],
      "toc_visible": true
    },
    "kernelspec": {
      "name": "python3",
      "display_name": "Python 3"
    },
    "language_info": {
      "name": "python"
    }
  },
  "cells": [
    {
      "cell_type": "markdown",
      "source": [
        "# 개요"
      ],
      "metadata": {
        "id": "Aag9YB3Re4PE"
      }
    },
    {
      "cell_type": "markdown",
      "source": [
        "- 포지션\n",
        "  - AI = 머신러닝 > 지도학습 > 분류\n",
        "    - 분류 알고리즘의 성능을 평가하는 기준\n",
        "- 방볍\n",
        "  - 혼동 행렬(오차 행렬)\n",
        "  - 예측값이 실제 관측값(정답)에 비해 얼마나 정확한가?"
      ],
      "metadata": {
        "id": "nKIVPdfGiZnO"
      }
    },
    {
      "cell_type": "markdown",
      "source": [
        "# 혼동행렬(오차행렬)"
      ],
      "metadata": {
        "id": "S-u0gvN6e9AX"
      }
    },
    {
      "cell_type": "markdown",
      "source": [
        "- 구성 요소 \n",
        "  - 총 조합은(2+2) 4가지 경우가 발생"
      ],
      "metadata": {
        "id": "l77FwMyxjcAz"
      }
    },
    {
      "cell_type": "markdown",
      "source": [
        "  - Positive : P : 긍정\n",
        "  - Negative : N : 부정\n",
        "---\n",
        "- True : T : 긍정 부정 상관없이 일치하면 T\n",
        "- False : F : 긍정 부정 상관없이 불일치하면 F\n",
        "\n"
      ],
      "metadata": {
        "id": "CyZY3iaXjAIy"
      }
    },
    {
      "cell_type": "markdown",
      "source": [
        "- case\n",
        "  - 전체 : 명제에 대한 실제 상황이 긍정적일수도 있고 아닐 수도 있다\n",
        "  - A라는 사람이 병원에 방문하였다 암을 진단하였다\n",
        "  - 암이 있다고 예측하고 진단했는데 실제로 암이 있었다\n",
        "    - (TP, TN, FP, FN) 이것들 중 어떤 것에 해당되는가?\n",
        "\n",
        "- TP\n",
        "  - 암이 있다고 예측, 실제로 암이 있었다\n",
        "- TN\n",
        "  - 암이 없다고 예측, 실제로 암이 없었다\n",
        "- FP\n",
        "  - 암이 있다고 예측, 실제로 암이 없었다\n",
        "- FN\n",
        "  - 암이 없다고 예측, 실제로 암이 있었다\n"
      ],
      "metadata": {
        "id": "2DQp2IaGjvDT"
      }
    },
    {
      "cell_type": "markdown",
      "source": [
        "- 평가 지표\n",
        "  - 기본 요소 (TP, ...)를 이용해서 구성\n",
        "  - metrics.classification_report()를 통해서 확인해 봄\n",
        "- 정확도\n",
        "  - accuracy\n",
        "  - (예측값과 실제값이 일치한 건 수) / (예측을 수행한 총 횟수)\n",
        "  - (TP + TN) / (TP + TN + FP + FN)\n",
        "  - 모델이 입력된 데이터에 대해서 얼마나 정확하게 예측하는지 나타낸다(훈련시 나오는 지표)\n",
        "\n"
      ],
      "metadata": {
        "id": "lO1Gwv0mmWoB"
      }
    },
    {
      "cell_type": "markdown",
      "source": [
        "- 정밀도\n",
        " - precision\n",
        " - 암이 **있다**고 예측한 모든 상황에서 실제로 암이 있었다\n",
        " - P = TP / (TP + FP)\n",
        " - \"예 or yes or 긍정\"라고 예측했을 때의 정답율\n",
        "\n",
        "- 재현율\n",
        "  - recall\n",
        "  - 실제 암이 있는 전체 데이터(TP + FN), 참긍정비율(TP)\n",
        "  - 실제로 병이 있는 전체 데이터 중 참긍정비율\n",
        "  - 실제 암환자가 병원에 내원해서 실제로 암환자라고 예측될 확률\n",
        "  - 병을 조기에 진단 발견해서 신속하게 처방/조치 받을 떼 적절하게 활용될 수 있는 지표\n",
        "  - R = TP / (TP +FN)\n",
        "\n",
        "- F1-score\n",
        "  - 정밀도, 재현율 이 중에 어떤 것을 써야 할 지 애매모호한 경우 \n",
        "  - 두 값의 조합확률을 구해서 수치로 나타낸 지표\n",
        "  - 정밀도(P)와 재현율(R)의 조화평균\n",
        "  - 조화평균\n",
        "    - 평균적인 변화율을 가진 정확한 평균치\n",
        "    -  VS 산출평균(s1 + s2 + ...)/ 총 개수\n",
        "  - F1 = 2 * (P * R) / (P + R)\n"
      ],
      "metadata": {
        "id": "GMs-XXkVqnNe"
      }
    },
    {
      "cell_type": "markdown",
      "source": [
        "- 특이성\n",
        "  - 실제 암이 없는 데이터 중(TN + FN) 대비 참부정 비율(TN)\n",
        "  - TN / (TN + FN)\n",
        "- 곡선하면적(ROC 커브, AUC 값)\n",
        "  - 여러 알고리즘을 **시각화** 해서 어떤 알고리즘이 성능이 좋은지 판단하는 지표\n",
        "  - 최종 선택을 할 때, 여러 알고리즘 값들이 겹쳐서 구분이 쉽지 않을 수 있다 -> AUC값 활용하여 서열 정리 가능\n",
        "- 다항시\n",
        "  - 마이크로 평균\n",
        "    - ex) 정밀도\n",
        "      - P = (TP1 + TP2 + TP3 + ...) / (TP1 + FP1 + TP2 + FP2 + ...)\n",
        "  - 매크로 평균\n",
        "    - ex) 정밀도\n",
        "      - P = (P1 + P2 + P3 + ....) / 총개수"
      ],
      "metadata": {
        "id": "L7vHqGIAt5U5"
      }
    },
    {
      "cell_type": "markdown",
      "source": [
        "# 간단한 데이터를 이용하여 성능평가 진행 "
      ],
      "metadata": {
        "id": "ufZslsffe9ZS"
      }
    },
    {
      "cell_type": "markdown",
      "source": [
        "## 연구 목표 설정"
      ],
      "metadata": {
        "id": "i_OOCYvne9t5"
      }
    },
    {
      "cell_type": "markdown",
      "source": [
        "- 머신러닝 > 지도학습 > 분류 > 모델 생성 절차 중 성능평가 테스트\n",
        "- ROC, AUC 시각화"
      ],
      "metadata": {
        "id": "O7iuSbJ4xDyD"
      }
    },
    {
      "cell_type": "markdown",
      "source": [
        "## 데이터 수집/획득"
      ],
      "metadata": {
        "id": "-tceWtqofSqY"
      }
    },
    {
      "cell_type": "markdown",
      "source": [
        "- scikit-learn 에서 제공하는 학습용 데이터 활용\n",
        "  - 관련함수\n",
        "    - fetch_xxxx()\n",
        "      - 데이터가 크다, 요청 시 다운로드 후 제공 \n",
        "    - load_xxxx()\n",
        "      - 패키지 설치시 바로 제공\n",
        "    - make_xxxx()\n",
        "      - 더미(임시) 데이터, 가짜 데이터를 임의로 생성해서 제공"
      ],
      "metadata": {
        "id": "EgxDMVa_xbDg"
      }
    },
    {
      "cell_type": "code",
      "source": [
        "# 라이브러리 불러오기\n",
        "import sklearn.datasets as mls\n",
        "import matplotlib.pyplot as plt\n",
        "import pandas as pd\n",
        "\n",
        "%matplotlib inline"
      ],
      "metadata": {
        "id": "851W-MsyyMqB"
      },
      "execution_count": null,
      "outputs": []
    },
    {
      "cell_type": "code",
      "source": [
        "# 데이터 불러오기\n",
        "tmp = mls.load_iris()\n",
        "print(tmp.DESCR)"
      ],
      "metadata": {
        "colab": {
          "base_uri": "https://localhost:8080/"
        },
        "id": "Bn39Hk52ytIM",
        "outputId": "7f206d51-2bba-4363-a667-d7d2817ae918"
      },
      "execution_count": null,
      "outputs": [
        {
          "output_type": "stream",
          "name": "stdout",
          "text": [
            ".. _iris_dataset:\n",
            "\n",
            "Iris plants dataset\n",
            "--------------------\n",
            "\n",
            "**Data Set Characteristics:**\n",
            "\n",
            "    :Number of Instances: 150 (50 in each of three classes)\n",
            "    :Number of Attributes: 4 numeric, predictive attributes and the class\n",
            "    :Attribute Information:\n",
            "        - sepal length in cm\n",
            "        - sepal width in cm\n",
            "        - petal length in cm\n",
            "        - petal width in cm\n",
            "        - class:\n",
            "                - Iris-Setosa\n",
            "                - Iris-Versicolour\n",
            "                - Iris-Virginica\n",
            "                \n",
            "    :Summary Statistics:\n",
            "\n",
            "    ============== ==== ==== ======= ===== ====================\n",
            "                    Min  Max   Mean    SD   Class Correlation\n",
            "    ============== ==== ==== ======= ===== ====================\n",
            "    sepal length:   4.3  7.9   5.84   0.83    0.7826\n",
            "    sepal width:    2.0  4.4   3.05   0.43   -0.4194\n",
            "    petal length:   1.0  6.9   3.76   1.76    0.9490  (high!)\n",
            "    petal width:    0.1  2.5   1.20   0.76    0.9565  (high!)\n",
            "    ============== ==== ==== ======= ===== ====================\n",
            "\n",
            "    :Missing Attribute Values: None\n",
            "    :Class Distribution: 33.3% for each of 3 classes.\n",
            "    :Creator: R.A. Fisher\n",
            "    :Donor: Michael Marshall (MARSHALL%PLU@io.arc.nasa.gov)\n",
            "    :Date: July, 1988\n",
            "\n",
            "The famous Iris database, first used by Sir R.A. Fisher. The dataset is taken\n",
            "from Fisher's paper. Note that it's the same as in R, but not as in the UCI\n",
            "Machine Learning Repository, which has two wrong data points.\n",
            "\n",
            "This is perhaps the best known database to be found in the\n",
            "pattern recognition literature.  Fisher's paper is a classic in the field and\n",
            "is referenced frequently to this day.  (See Duda & Hart, for example.)  The\n",
            "data set contains 3 classes of 50 instances each, where each class refers to a\n",
            "type of iris plant.  One class is linearly separable from the other 2; the\n",
            "latter are NOT linearly separable from each other.\n",
            "\n",
            ".. topic:: References\n",
            "\n",
            "   - Fisher, R.A. \"The use of multiple measurements in taxonomic problems\"\n",
            "     Annual Eugenics, 7, Part II, 179-188 (1936); also in \"Contributions to\n",
            "     Mathematical Statistics\" (John Wiley, NY, 1950).\n",
            "   - Duda, R.O., & Hart, P.E. (1973) Pattern Classification and Scene Analysis.\n",
            "     (Q327.D83) John Wiley & Sons.  ISBN 0-471-22361-1.  See page 218.\n",
            "   - Dasarathy, B.V. (1980) \"Nosing Around the Neighborhood: A New System\n",
            "     Structure and Classification Rule for Recognition in Partially Exposed\n",
            "     Environments\".  IEEE Transactions on Pattern Analysis and Machine\n",
            "     Intelligence, Vol. PAMI-2, No. 1, 67-71.\n",
            "   - Gates, G.W. (1972) \"The Reduced Nearest Neighbor Rule\".  IEEE Transactions\n",
            "     on Information Theory, May 1972, 431-433.\n",
            "   - See also: 1988 MLC Proceedings, 54-64.  Cheeseman et al\"s AUTOCLASS II\n",
            "     conceptual clustering system finds 3 classes in the data.\n",
            "   - Many, many more ...\n"
          ]
        }
      ]
    },
    {
      "cell_type": "markdown",
      "source": [
        "## 데이터 준비/전처리"
      ],
      "metadata": {
        "id": "sKawPlgRfTE7"
      }
    },
    {
      "cell_type": "code",
      "source": [
        "# 기본적인 데이터 참색(확인)\n",
        "# 데이터 전처리 혹은 준비"
      ],
      "metadata": {
        "id": "WcMKfT1I0NbC"
      },
      "execution_count": null,
      "outputs": []
    },
    {
      "cell_type": "code",
      "source": [
        "tmp.target\n",
        "# 3개의 클래스를 순서대로 0,1,2로 세팅되어 있다\n",
        "# 데이터가 동일 종류끼리 붙어서 배치되어 있다 \n",
        "# 나중에 훈련시 데이터를 섞어서 처리해야 겠다\n",
        "# 정답이 모두 수치로 되어 있다"
      ],
      "metadata": {
        "colab": {
          "base_uri": "https://localhost:8080/"
        },
        "id": "ROX9tov_2wS3",
        "outputId": "d568963e-a49f-41a0-f6cb-f1145e3256e1"
      },
      "execution_count": null,
      "outputs": [
        {
          "output_type": "execute_result",
          "data": {
            "text/plain": [
              "array([0, 0, 0, 0, 0, 0, 0, 0, 0, 0, 0, 0, 0, 0, 0, 0, 0, 0, 0, 0, 0, 0,\n",
              "       0, 0, 0, 0, 0, 0, 0, 0, 0, 0, 0, 0, 0, 0, 0, 0, 0, 0, 0, 0, 0, 0,\n",
              "       0, 0, 0, 0, 0, 0, 1, 1, 1, 1, 1, 1, 1, 1, 1, 1, 1, 1, 1, 1, 1, 1,\n",
              "       1, 1, 1, 1, 1, 1, 1, 1, 1, 1, 1, 1, 1, 1, 1, 1, 1, 1, 1, 1, 1, 1,\n",
              "       1, 1, 1, 1, 1, 1, 1, 1, 1, 1, 1, 1, 2, 2, 2, 2, 2, 2, 2, 2, 2, 2,\n",
              "       2, 2, 2, 2, 2, 2, 2, 2, 2, 2, 2, 2, 2, 2, 2, 2, 2, 2, 2, 2, 2, 2,\n",
              "       2, 2, 2, 2, 2, 2, 2, 2, 2, 2, 2, 2, 2, 2, 2, 2, 2, 2])"
            ]
          },
          "metadata": {},
          "execution_count": 6
        }
      ]
    },
    {
      "cell_type": "code",
      "source": [
        "tmp.target_names\n",
        "# 정답의 이름 확인"
      ],
      "metadata": {
        "colab": {
          "base_uri": "https://localhost:8080/"
        },
        "id": "jt3Zd5Wf3S30",
        "outputId": "769261bf-54d5-414e-8f98-bc0836d2a8b7"
      },
      "execution_count": null,
      "outputs": [
        {
          "output_type": "execute_result",
          "data": {
            "text/plain": [
              "array(['setosa', 'versicolor', 'virginica'], dtype='<U10')"
            ]
          },
          "metadata": {},
          "execution_count": 7
        }
      ]
    },
    {
      "cell_type": "code",
      "source": [
        "# 데이터(종속변수) 볼륨, 크기, 사이즈 확인 등등\n",
        "tmp.target.shape"
      ],
      "metadata": {
        "colab": {
          "base_uri": "https://localhost:8080/"
        },
        "id": "WBrFZLAH3ehG",
        "outputId": "ae171205-d24c-4d72-d263-114135d619c6"
      },
      "execution_count": null,
      "outputs": [
        {
          "output_type": "execute_result",
          "data": {
            "text/plain": [
              "(150,)"
            ]
          },
          "metadata": {},
          "execution_count": 8
        }
      ]
    },
    {
      "cell_type": "code",
      "source": [
        "# 독립변수 데이터 체크\n",
        "tmp.data.shape\n",
        "# 컬럼(특성)이 4개, 데이터는 총 15개 존재"
      ],
      "metadata": {
        "colab": {
          "base_uri": "https://localhost:8080/"
        },
        "id": "xuZpKPhA3yNV",
        "outputId": "5259404c-31cd-4d53-cb76-b2e57223abed"
      },
      "execution_count": null,
      "outputs": [
        {
          "output_type": "execute_result",
          "data": {
            "text/plain": [
              "(150, 4)"
            ]
          },
          "metadata": {},
          "execution_count": 9
        }
      ]
    },
    {
      "cell_type": "code",
      "source": [
        "# 데이터는 어떻게 생겼는가?\n",
        "tmp.data"
      ],
      "metadata": {
        "colab": {
          "base_uri": "https://localhost:8080/"
        },
        "id": "RHxJQTid3yUg",
        "outputId": "5c8707a4-da29-427b-b874-d2ef9822508d"
      },
      "execution_count": null,
      "outputs": [
        {
          "output_type": "execute_result",
          "data": {
            "text/plain": [
              "array([[5.1, 3.5, 1.4, 0.2],\n",
              "       [4.9, 3. , 1.4, 0.2],\n",
              "       [4.7, 3.2, 1.3, 0.2],\n",
              "       [4.6, 3.1, 1.5, 0.2],\n",
              "       [5. , 3.6, 1.4, 0.2],\n",
              "       [5.4, 3.9, 1.7, 0.4],\n",
              "       [4.6, 3.4, 1.4, 0.3],\n",
              "       [5. , 3.4, 1.5, 0.2],\n",
              "       [4.4, 2.9, 1.4, 0.2],\n",
              "       [4.9, 3.1, 1.5, 0.1],\n",
              "       [5.4, 3.7, 1.5, 0.2],\n",
              "       [4.8, 3.4, 1.6, 0.2],\n",
              "       [4.8, 3. , 1.4, 0.1],\n",
              "       [4.3, 3. , 1.1, 0.1],\n",
              "       [5.8, 4. , 1.2, 0.2],\n",
              "       [5.7, 4.4, 1.5, 0.4],\n",
              "       [5.4, 3.9, 1.3, 0.4],\n",
              "       [5.1, 3.5, 1.4, 0.3],\n",
              "       [5.7, 3.8, 1.7, 0.3],\n",
              "       [5.1, 3.8, 1.5, 0.3],\n",
              "       [5.4, 3.4, 1.7, 0.2],\n",
              "       [5.1, 3.7, 1.5, 0.4],\n",
              "       [4.6, 3.6, 1. , 0.2],\n",
              "       [5.1, 3.3, 1.7, 0.5],\n",
              "       [4.8, 3.4, 1.9, 0.2],\n",
              "       [5. , 3. , 1.6, 0.2],\n",
              "       [5. , 3.4, 1.6, 0.4],\n",
              "       [5.2, 3.5, 1.5, 0.2],\n",
              "       [5.2, 3.4, 1.4, 0.2],\n",
              "       [4.7, 3.2, 1.6, 0.2],\n",
              "       [4.8, 3.1, 1.6, 0.2],\n",
              "       [5.4, 3.4, 1.5, 0.4],\n",
              "       [5.2, 4.1, 1.5, 0.1],\n",
              "       [5.5, 4.2, 1.4, 0.2],\n",
              "       [4.9, 3.1, 1.5, 0.2],\n",
              "       [5. , 3.2, 1.2, 0.2],\n",
              "       [5.5, 3.5, 1.3, 0.2],\n",
              "       [4.9, 3.6, 1.4, 0.1],\n",
              "       [4.4, 3. , 1.3, 0.2],\n",
              "       [5.1, 3.4, 1.5, 0.2],\n",
              "       [5. , 3.5, 1.3, 0.3],\n",
              "       [4.5, 2.3, 1.3, 0.3],\n",
              "       [4.4, 3.2, 1.3, 0.2],\n",
              "       [5. , 3.5, 1.6, 0.6],\n",
              "       [5.1, 3.8, 1.9, 0.4],\n",
              "       [4.8, 3. , 1.4, 0.3],\n",
              "       [5.1, 3.8, 1.6, 0.2],\n",
              "       [4.6, 3.2, 1.4, 0.2],\n",
              "       [5.3, 3.7, 1.5, 0.2],\n",
              "       [5. , 3.3, 1.4, 0.2],\n",
              "       [7. , 3.2, 4.7, 1.4],\n",
              "       [6.4, 3.2, 4.5, 1.5],\n",
              "       [6.9, 3.1, 4.9, 1.5],\n",
              "       [5.5, 2.3, 4. , 1.3],\n",
              "       [6.5, 2.8, 4.6, 1.5],\n",
              "       [5.7, 2.8, 4.5, 1.3],\n",
              "       [6.3, 3.3, 4.7, 1.6],\n",
              "       [4.9, 2.4, 3.3, 1. ],\n",
              "       [6.6, 2.9, 4.6, 1.3],\n",
              "       [5.2, 2.7, 3.9, 1.4],\n",
              "       [5. , 2. , 3.5, 1. ],\n",
              "       [5.9, 3. , 4.2, 1.5],\n",
              "       [6. , 2.2, 4. , 1. ],\n",
              "       [6.1, 2.9, 4.7, 1.4],\n",
              "       [5.6, 2.9, 3.6, 1.3],\n",
              "       [6.7, 3.1, 4.4, 1.4],\n",
              "       [5.6, 3. , 4.5, 1.5],\n",
              "       [5.8, 2.7, 4.1, 1. ],\n",
              "       [6.2, 2.2, 4.5, 1.5],\n",
              "       [5.6, 2.5, 3.9, 1.1],\n",
              "       [5.9, 3.2, 4.8, 1.8],\n",
              "       [6.1, 2.8, 4. , 1.3],\n",
              "       [6.3, 2.5, 4.9, 1.5],\n",
              "       [6.1, 2.8, 4.7, 1.2],\n",
              "       [6.4, 2.9, 4.3, 1.3],\n",
              "       [6.6, 3. , 4.4, 1.4],\n",
              "       [6.8, 2.8, 4.8, 1.4],\n",
              "       [6.7, 3. , 5. , 1.7],\n",
              "       [6. , 2.9, 4.5, 1.5],\n",
              "       [5.7, 2.6, 3.5, 1. ],\n",
              "       [5.5, 2.4, 3.8, 1.1],\n",
              "       [5.5, 2.4, 3.7, 1. ],\n",
              "       [5.8, 2.7, 3.9, 1.2],\n",
              "       [6. , 2.7, 5.1, 1.6],\n",
              "       [5.4, 3. , 4.5, 1.5],\n",
              "       [6. , 3.4, 4.5, 1.6],\n",
              "       [6.7, 3.1, 4.7, 1.5],\n",
              "       [6.3, 2.3, 4.4, 1.3],\n",
              "       [5.6, 3. , 4.1, 1.3],\n",
              "       [5.5, 2.5, 4. , 1.3],\n",
              "       [5.5, 2.6, 4.4, 1.2],\n",
              "       [6.1, 3. , 4.6, 1.4],\n",
              "       [5.8, 2.6, 4. , 1.2],\n",
              "       [5. , 2.3, 3.3, 1. ],\n",
              "       [5.6, 2.7, 4.2, 1.3],\n",
              "       [5.7, 3. , 4.2, 1.2],\n",
              "       [5.7, 2.9, 4.2, 1.3],\n",
              "       [6.2, 2.9, 4.3, 1.3],\n",
              "       [5.1, 2.5, 3. , 1.1],\n",
              "       [5.7, 2.8, 4.1, 1.3],\n",
              "       [6.3, 3.3, 6. , 2.5],\n",
              "       [5.8, 2.7, 5.1, 1.9],\n",
              "       [7.1, 3. , 5.9, 2.1],\n",
              "       [6.3, 2.9, 5.6, 1.8],\n",
              "       [6.5, 3. , 5.8, 2.2],\n",
              "       [7.6, 3. , 6.6, 2.1],\n",
              "       [4.9, 2.5, 4.5, 1.7],\n",
              "       [7.3, 2.9, 6.3, 1.8],\n",
              "       [6.7, 2.5, 5.8, 1.8],\n",
              "       [7.2, 3.6, 6.1, 2.5],\n",
              "       [6.5, 3.2, 5.1, 2. ],\n",
              "       [6.4, 2.7, 5.3, 1.9],\n",
              "       [6.8, 3. , 5.5, 2.1],\n",
              "       [5.7, 2.5, 5. , 2. ],\n",
              "       [5.8, 2.8, 5.1, 2.4],\n",
              "       [6.4, 3.2, 5.3, 2.3],\n",
              "       [6.5, 3. , 5.5, 1.8],\n",
              "       [7.7, 3.8, 6.7, 2.2],\n",
              "       [7.7, 2.6, 6.9, 2.3],\n",
              "       [6. , 2.2, 5. , 1.5],\n",
              "       [6.9, 3.2, 5.7, 2.3],\n",
              "       [5.6, 2.8, 4.9, 2. ],\n",
              "       [7.7, 2.8, 6.7, 2. ],\n",
              "       [6.3, 2.7, 4.9, 1.8],\n",
              "       [6.7, 3.3, 5.7, 2.1],\n",
              "       [7.2, 3.2, 6. , 1.8],\n",
              "       [6.2, 2.8, 4.8, 1.8],\n",
              "       [6.1, 3. , 4.9, 1.8],\n",
              "       [6.4, 2.8, 5.6, 2.1],\n",
              "       [7.2, 3. , 5.8, 1.6],\n",
              "       [7.4, 2.8, 6.1, 1.9],\n",
              "       [7.9, 3.8, 6.4, 2. ],\n",
              "       [6.4, 2.8, 5.6, 2.2],\n",
              "       [6.3, 2.8, 5.1, 1.5],\n",
              "       [6.1, 2.6, 5.6, 1.4],\n",
              "       [7.7, 3. , 6.1, 2.3],\n",
              "       [6.3, 3.4, 5.6, 2.4],\n",
              "       [6.4, 3.1, 5.5, 1.8],\n",
              "       [6. , 3. , 4.8, 1.8],\n",
              "       [6.9, 3.1, 5.4, 2.1],\n",
              "       [6.7, 3.1, 5.6, 2.4],\n",
              "       [6.9, 3.1, 5.1, 2.3],\n",
              "       [5.8, 2.7, 5.1, 1.9],\n",
              "       [6.8, 3.2, 5.9, 2.3],\n",
              "       [6.7, 3.3, 5.7, 2.5],\n",
              "       [6.7, 3. , 5.2, 2.3],\n",
              "       [6.3, 2.5, 5. , 1.9],\n",
              "       [6.5, 3. , 5.2, 2. ],\n",
              "       [6.2, 3.4, 5.4, 2.3],\n",
              "       [5.9, 3. , 5.1, 1.8]])"
            ]
          },
          "metadata": {},
          "execution_count": 11
        }
      ]
    },
    {
      "cell_type": "code",
      "source": [
        "# 데이터프레임 구성\n",
        "# (150,4)\n",
        "# 컬럼명은 실제 이름을 사용\n",
        "# df를 생성하시오\n",
        "df = pd.DataFrame(tmp.data,columns = tmp.feature_names)\n",
        "df.head()"
      ],
      "metadata": {
        "colab": {
          "base_uri": "https://localhost:8080/",
          "height": 206
        },
        "id": "SpL5Zxt44Qzp",
        "outputId": "4a743bac-31fb-448a-ddf6-0a443634ec3c"
      },
      "execution_count": null,
      "outputs": [
        {
          "output_type": "execute_result",
          "data": {
            "text/plain": [
              "   sepal length (cm)  sepal width (cm)  petal length (cm)  petal width (cm)\n",
              "0                5.1               3.5                1.4               0.2\n",
              "1                4.9               3.0                1.4               0.2\n",
              "2                4.7               3.2                1.3               0.2\n",
              "3                4.6               3.1                1.5               0.2\n",
              "4                5.0               3.6                1.4               0.2"
            ],
            "text/html": [
              "\n",
              "  <div id=\"df-6b434316-f5d7-4a73-b7ce-0e0ec97a81b2\">\n",
              "    <div class=\"colab-df-container\">\n",
              "      <div>\n",
              "<style scoped>\n",
              "    .dataframe tbody tr th:only-of-type {\n",
              "        vertical-align: middle;\n",
              "    }\n",
              "\n",
              "    .dataframe tbody tr th {\n",
              "        vertical-align: top;\n",
              "    }\n",
              "\n",
              "    .dataframe thead th {\n",
              "        text-align: right;\n",
              "    }\n",
              "</style>\n",
              "<table border=\"1\" class=\"dataframe\">\n",
              "  <thead>\n",
              "    <tr style=\"text-align: right;\">\n",
              "      <th></th>\n",
              "      <th>sepal length (cm)</th>\n",
              "      <th>sepal width (cm)</th>\n",
              "      <th>petal length (cm)</th>\n",
              "      <th>petal width (cm)</th>\n",
              "    </tr>\n",
              "  </thead>\n",
              "  <tbody>\n",
              "    <tr>\n",
              "      <th>0</th>\n",
              "      <td>5.1</td>\n",
              "      <td>3.5</td>\n",
              "      <td>1.4</td>\n",
              "      <td>0.2</td>\n",
              "    </tr>\n",
              "    <tr>\n",
              "      <th>1</th>\n",
              "      <td>4.9</td>\n",
              "      <td>3.0</td>\n",
              "      <td>1.4</td>\n",
              "      <td>0.2</td>\n",
              "    </tr>\n",
              "    <tr>\n",
              "      <th>2</th>\n",
              "      <td>4.7</td>\n",
              "      <td>3.2</td>\n",
              "      <td>1.3</td>\n",
              "      <td>0.2</td>\n",
              "    </tr>\n",
              "    <tr>\n",
              "      <th>3</th>\n",
              "      <td>4.6</td>\n",
              "      <td>3.1</td>\n",
              "      <td>1.5</td>\n",
              "      <td>0.2</td>\n",
              "    </tr>\n",
              "    <tr>\n",
              "      <th>4</th>\n",
              "      <td>5.0</td>\n",
              "      <td>3.6</td>\n",
              "      <td>1.4</td>\n",
              "      <td>0.2</td>\n",
              "    </tr>\n",
              "  </tbody>\n",
              "</table>\n",
              "</div>\n",
              "      <button class=\"colab-df-convert\" onclick=\"convertToInteractive('df-6b434316-f5d7-4a73-b7ce-0e0ec97a81b2')\"\n",
              "              title=\"Convert this dataframe to an interactive table.\"\n",
              "              style=\"display:none;\">\n",
              "        \n",
              "  <svg xmlns=\"http://www.w3.org/2000/svg\" height=\"24px\"viewBox=\"0 0 24 24\"\n",
              "       width=\"24px\">\n",
              "    <path d=\"M0 0h24v24H0V0z\" fill=\"none\"/>\n",
              "    <path d=\"M18.56 5.44l.94 2.06.94-2.06 2.06-.94-2.06-.94-.94-2.06-.94 2.06-2.06.94zm-11 1L8.5 8.5l.94-2.06 2.06-.94-2.06-.94L8.5 2.5l-.94 2.06-2.06.94zm10 10l.94 2.06.94-2.06 2.06-.94-2.06-.94-.94-2.06-.94 2.06-2.06.94z\"/><path d=\"M17.41 7.96l-1.37-1.37c-.4-.4-.92-.59-1.43-.59-.52 0-1.04.2-1.43.59L10.3 9.45l-7.72 7.72c-.78.78-.78 2.05 0 2.83L4 21.41c.39.39.9.59 1.41.59.51 0 1.02-.2 1.41-.59l7.78-7.78 2.81-2.81c.8-.78.8-2.07 0-2.86zM5.41 20L4 18.59l7.72-7.72 1.47 1.35L5.41 20z\"/>\n",
              "  </svg>\n",
              "      </button>\n",
              "      \n",
              "  <style>\n",
              "    .colab-df-container {\n",
              "      display:flex;\n",
              "      flex-wrap:wrap;\n",
              "      gap: 12px;\n",
              "    }\n",
              "\n",
              "    .colab-df-convert {\n",
              "      background-color: #E8F0FE;\n",
              "      border: none;\n",
              "      border-radius: 50%;\n",
              "      cursor: pointer;\n",
              "      display: none;\n",
              "      fill: #1967D2;\n",
              "      height: 32px;\n",
              "      padding: 0 0 0 0;\n",
              "      width: 32px;\n",
              "    }\n",
              "\n",
              "    .colab-df-convert:hover {\n",
              "      background-color: #E2EBFA;\n",
              "      box-shadow: 0px 1px 2px rgba(60, 64, 67, 0.3), 0px 1px 3px 1px rgba(60, 64, 67, 0.15);\n",
              "      fill: #174EA6;\n",
              "    }\n",
              "\n",
              "    [theme=dark] .colab-df-convert {\n",
              "      background-color: #3B4455;\n",
              "      fill: #D2E3FC;\n",
              "    }\n",
              "\n",
              "    [theme=dark] .colab-df-convert:hover {\n",
              "      background-color: #434B5C;\n",
              "      box-shadow: 0px 1px 3px 1px rgba(0, 0, 0, 0.15);\n",
              "      filter: drop-shadow(0px 1px 2px rgba(0, 0, 0, 0.3));\n",
              "      fill: #FFFFFF;\n",
              "    }\n",
              "  </style>\n",
              "\n",
              "      <script>\n",
              "        const buttonEl =\n",
              "          document.querySelector('#df-6b434316-f5d7-4a73-b7ce-0e0ec97a81b2 button.colab-df-convert');\n",
              "        buttonEl.style.display =\n",
              "          google.colab.kernel.accessAllowed ? 'block' : 'none';\n",
              "\n",
              "        async function convertToInteractive(key) {\n",
              "          const element = document.querySelector('#df-6b434316-f5d7-4a73-b7ce-0e0ec97a81b2');\n",
              "          const dataTable =\n",
              "            await google.colab.kernel.invokeFunction('convertToInteractive',\n",
              "                                                     [key], {});\n",
              "          if (!dataTable) return;\n",
              "\n",
              "          const docLinkHtml = 'Like what you see? Visit the ' +\n",
              "            '<a target=\"_blank\" href=https://colab.research.google.com/notebooks/data_table.ipynb>data table notebook</a>'\n",
              "            + ' to learn more about interactive tables.';\n",
              "          element.innerHTML = '';\n",
              "          dataTable['output_type'] = 'display_data';\n",
              "          await google.colab.output.renderOutput(dataTable, element);\n",
              "          const docLink = document.createElement('div');\n",
              "          docLink.innerHTML = docLinkHtml;\n",
              "          element.appendChild(docLink);\n",
              "        }\n",
              "      </script>\n",
              "    </div>\n",
              "  </div>\n",
              "  "
            ]
          },
          "metadata": {},
          "execution_count": 14
        }
      ]
    },
    {
      "cell_type": "code",
      "source": [
        "# 통계적 요약\n",
        "df.describe()"
      ],
      "metadata": {
        "colab": {
          "base_uri": "https://localhost:8080/",
          "height": 300
        },
        "id": "ugGYCuFv3yYM",
        "outputId": "bf263fef-87cb-492b-8c5e-37f1b48709f9"
      },
      "execution_count": null,
      "outputs": [
        {
          "output_type": "execute_result",
          "data": {
            "text/plain": [
              "       sepal length (cm)  sepal width (cm)  petal length (cm)  \\\n",
              "count         150.000000        150.000000         150.000000   \n",
              "mean            5.843333          3.057333           3.758000   \n",
              "std             0.828066          0.435866           1.765298   \n",
              "min             4.300000          2.000000           1.000000   \n",
              "25%             5.100000          2.800000           1.600000   \n",
              "50%             5.800000          3.000000           4.350000   \n",
              "75%             6.400000          3.300000           5.100000   \n",
              "max             7.900000          4.400000           6.900000   \n",
              "\n",
              "       petal width (cm)  \n",
              "count        150.000000  \n",
              "mean           1.199333  \n",
              "std            0.762238  \n",
              "min            0.100000  \n",
              "25%            0.300000  \n",
              "50%            1.300000  \n",
              "75%            1.800000  \n",
              "max            2.500000  "
            ],
            "text/html": [
              "\n",
              "  <div id=\"df-60171e73-8674-460a-a77c-de8254738894\">\n",
              "    <div class=\"colab-df-container\">\n",
              "      <div>\n",
              "<style scoped>\n",
              "    .dataframe tbody tr th:only-of-type {\n",
              "        vertical-align: middle;\n",
              "    }\n",
              "\n",
              "    .dataframe tbody tr th {\n",
              "        vertical-align: top;\n",
              "    }\n",
              "\n",
              "    .dataframe thead th {\n",
              "        text-align: right;\n",
              "    }\n",
              "</style>\n",
              "<table border=\"1\" class=\"dataframe\">\n",
              "  <thead>\n",
              "    <tr style=\"text-align: right;\">\n",
              "      <th></th>\n",
              "      <th>sepal length (cm)</th>\n",
              "      <th>sepal width (cm)</th>\n",
              "      <th>petal length (cm)</th>\n",
              "      <th>petal width (cm)</th>\n",
              "    </tr>\n",
              "  </thead>\n",
              "  <tbody>\n",
              "    <tr>\n",
              "      <th>count</th>\n",
              "      <td>150.000000</td>\n",
              "      <td>150.000000</td>\n",
              "      <td>150.000000</td>\n",
              "      <td>150.000000</td>\n",
              "    </tr>\n",
              "    <tr>\n",
              "      <th>mean</th>\n",
              "      <td>5.843333</td>\n",
              "      <td>3.057333</td>\n",
              "      <td>3.758000</td>\n",
              "      <td>1.199333</td>\n",
              "    </tr>\n",
              "    <tr>\n",
              "      <th>std</th>\n",
              "      <td>0.828066</td>\n",
              "      <td>0.435866</td>\n",
              "      <td>1.765298</td>\n",
              "      <td>0.762238</td>\n",
              "    </tr>\n",
              "    <tr>\n",
              "      <th>min</th>\n",
              "      <td>4.300000</td>\n",
              "      <td>2.000000</td>\n",
              "      <td>1.000000</td>\n",
              "      <td>0.100000</td>\n",
              "    </tr>\n",
              "    <tr>\n",
              "      <th>25%</th>\n",
              "      <td>5.100000</td>\n",
              "      <td>2.800000</td>\n",
              "      <td>1.600000</td>\n",
              "      <td>0.300000</td>\n",
              "    </tr>\n",
              "    <tr>\n",
              "      <th>50%</th>\n",
              "      <td>5.800000</td>\n",
              "      <td>3.000000</td>\n",
              "      <td>4.350000</td>\n",
              "      <td>1.300000</td>\n",
              "    </tr>\n",
              "    <tr>\n",
              "      <th>75%</th>\n",
              "      <td>6.400000</td>\n",
              "      <td>3.300000</td>\n",
              "      <td>5.100000</td>\n",
              "      <td>1.800000</td>\n",
              "    </tr>\n",
              "    <tr>\n",
              "      <th>max</th>\n",
              "      <td>7.900000</td>\n",
              "      <td>4.400000</td>\n",
              "      <td>6.900000</td>\n",
              "      <td>2.500000</td>\n",
              "    </tr>\n",
              "  </tbody>\n",
              "</table>\n",
              "</div>\n",
              "      <button class=\"colab-df-convert\" onclick=\"convertToInteractive('df-60171e73-8674-460a-a77c-de8254738894')\"\n",
              "              title=\"Convert this dataframe to an interactive table.\"\n",
              "              style=\"display:none;\">\n",
              "        \n",
              "  <svg xmlns=\"http://www.w3.org/2000/svg\" height=\"24px\"viewBox=\"0 0 24 24\"\n",
              "       width=\"24px\">\n",
              "    <path d=\"M0 0h24v24H0V0z\" fill=\"none\"/>\n",
              "    <path d=\"M18.56 5.44l.94 2.06.94-2.06 2.06-.94-2.06-.94-.94-2.06-.94 2.06-2.06.94zm-11 1L8.5 8.5l.94-2.06 2.06-.94-2.06-.94L8.5 2.5l-.94 2.06-2.06.94zm10 10l.94 2.06.94-2.06 2.06-.94-2.06-.94-.94-2.06-.94 2.06-2.06.94z\"/><path d=\"M17.41 7.96l-1.37-1.37c-.4-.4-.92-.59-1.43-.59-.52 0-1.04.2-1.43.59L10.3 9.45l-7.72 7.72c-.78.78-.78 2.05 0 2.83L4 21.41c.39.39.9.59 1.41.59.51 0 1.02-.2 1.41-.59l7.78-7.78 2.81-2.81c.8-.78.8-2.07 0-2.86zM5.41 20L4 18.59l7.72-7.72 1.47 1.35L5.41 20z\"/>\n",
              "  </svg>\n",
              "      </button>\n",
              "      \n",
              "  <style>\n",
              "    .colab-df-container {\n",
              "      display:flex;\n",
              "      flex-wrap:wrap;\n",
              "      gap: 12px;\n",
              "    }\n",
              "\n",
              "    .colab-df-convert {\n",
              "      background-color: #E8F0FE;\n",
              "      border: none;\n",
              "      border-radius: 50%;\n",
              "      cursor: pointer;\n",
              "      display: none;\n",
              "      fill: #1967D2;\n",
              "      height: 32px;\n",
              "      padding: 0 0 0 0;\n",
              "      width: 32px;\n",
              "    }\n",
              "\n",
              "    .colab-df-convert:hover {\n",
              "      background-color: #E2EBFA;\n",
              "      box-shadow: 0px 1px 2px rgba(60, 64, 67, 0.3), 0px 1px 3px 1px rgba(60, 64, 67, 0.15);\n",
              "      fill: #174EA6;\n",
              "    }\n",
              "\n",
              "    [theme=dark] .colab-df-convert {\n",
              "      background-color: #3B4455;\n",
              "      fill: #D2E3FC;\n",
              "    }\n",
              "\n",
              "    [theme=dark] .colab-df-convert:hover {\n",
              "      background-color: #434B5C;\n",
              "      box-shadow: 0px 1px 3px 1px rgba(0, 0, 0, 0.15);\n",
              "      filter: drop-shadow(0px 1px 2px rgba(0, 0, 0, 0.3));\n",
              "      fill: #FFFFFF;\n",
              "    }\n",
              "  </style>\n",
              "\n",
              "      <script>\n",
              "        const buttonEl =\n",
              "          document.querySelector('#df-60171e73-8674-460a-a77c-de8254738894 button.colab-df-convert');\n",
              "        buttonEl.style.display =\n",
              "          google.colab.kernel.accessAllowed ? 'block' : 'none';\n",
              "\n",
              "        async function convertToInteractive(key) {\n",
              "          const element = document.querySelector('#df-60171e73-8674-460a-a77c-de8254738894');\n",
              "          const dataTable =\n",
              "            await google.colab.kernel.invokeFunction('convertToInteractive',\n",
              "                                                     [key], {});\n",
              "          if (!dataTable) return;\n",
              "\n",
              "          const docLinkHtml = 'Like what you see? Visit the ' +\n",
              "            '<a target=\"_blank\" href=https://colab.research.google.com/notebooks/data_table.ipynb>data table notebook</a>'\n",
              "            + ' to learn more about interactive tables.';\n",
              "          element.innerHTML = '';\n",
              "          dataTable['output_type'] = 'display_data';\n",
              "          await google.colab.output.renderOutput(dataTable, element);\n",
              "          const docLink = document.createElement('div');\n",
              "          docLink.innerHTML = docLinkHtml;\n",
              "          element.appendChild(docLink);\n",
              "        }\n",
              "      </script>\n",
              "    </div>\n",
              "  </div>\n",
              "  "
            ]
          },
          "metadata": {},
          "execution_count": 15
        }
      ]
    },
    {
      "cell_type": "code",
      "source": [
        "# 정답(종속변수) 추가 -> 파생변수 생성 -> (150, 5)\n",
        "df[\"species\"] = tmp.target\n",
        "df.head(1)"
      ],
      "metadata": {
        "colab": {
          "base_uri": "https://localhost:8080/",
          "height": 81
        },
        "id": "3nRhcGW83yb7",
        "outputId": "32aed9dc-3130-4643-aa64-6a4ea330bff2"
      },
      "execution_count": null,
      "outputs": [
        {
          "output_type": "execute_result",
          "data": {
            "text/plain": [
              "   sepal length (cm)  sepal width (cm)  petal length (cm)  petal width (cm)  \\\n",
              "0                5.1               3.5                1.4               0.2   \n",
              "\n",
              "   species  \n",
              "0        0  "
            ],
            "text/html": [
              "\n",
              "  <div id=\"df-e4d3765f-6cec-4234-a20d-7fe6afa94821\">\n",
              "    <div class=\"colab-df-container\">\n",
              "      <div>\n",
              "<style scoped>\n",
              "    .dataframe tbody tr th:only-of-type {\n",
              "        vertical-align: middle;\n",
              "    }\n",
              "\n",
              "    .dataframe tbody tr th {\n",
              "        vertical-align: top;\n",
              "    }\n",
              "\n",
              "    .dataframe thead th {\n",
              "        text-align: right;\n",
              "    }\n",
              "</style>\n",
              "<table border=\"1\" class=\"dataframe\">\n",
              "  <thead>\n",
              "    <tr style=\"text-align: right;\">\n",
              "      <th></th>\n",
              "      <th>sepal length (cm)</th>\n",
              "      <th>sepal width (cm)</th>\n",
              "      <th>petal length (cm)</th>\n",
              "      <th>petal width (cm)</th>\n",
              "      <th>species</th>\n",
              "    </tr>\n",
              "  </thead>\n",
              "  <tbody>\n",
              "    <tr>\n",
              "      <th>0</th>\n",
              "      <td>5.1</td>\n",
              "      <td>3.5</td>\n",
              "      <td>1.4</td>\n",
              "      <td>0.2</td>\n",
              "      <td>0</td>\n",
              "    </tr>\n",
              "  </tbody>\n",
              "</table>\n",
              "</div>\n",
              "      <button class=\"colab-df-convert\" onclick=\"convertToInteractive('df-e4d3765f-6cec-4234-a20d-7fe6afa94821')\"\n",
              "              title=\"Convert this dataframe to an interactive table.\"\n",
              "              style=\"display:none;\">\n",
              "        \n",
              "  <svg xmlns=\"http://www.w3.org/2000/svg\" height=\"24px\"viewBox=\"0 0 24 24\"\n",
              "       width=\"24px\">\n",
              "    <path d=\"M0 0h24v24H0V0z\" fill=\"none\"/>\n",
              "    <path d=\"M18.56 5.44l.94 2.06.94-2.06 2.06-.94-2.06-.94-.94-2.06-.94 2.06-2.06.94zm-11 1L8.5 8.5l.94-2.06 2.06-.94-2.06-.94L8.5 2.5l-.94 2.06-2.06.94zm10 10l.94 2.06.94-2.06 2.06-.94-2.06-.94-.94-2.06-.94 2.06-2.06.94z\"/><path d=\"M17.41 7.96l-1.37-1.37c-.4-.4-.92-.59-1.43-.59-.52 0-1.04.2-1.43.59L10.3 9.45l-7.72 7.72c-.78.78-.78 2.05 0 2.83L4 21.41c.39.39.9.59 1.41.59.51 0 1.02-.2 1.41-.59l7.78-7.78 2.81-2.81c.8-.78.8-2.07 0-2.86zM5.41 20L4 18.59l7.72-7.72 1.47 1.35L5.41 20z\"/>\n",
              "  </svg>\n",
              "      </button>\n",
              "      \n",
              "  <style>\n",
              "    .colab-df-container {\n",
              "      display:flex;\n",
              "      flex-wrap:wrap;\n",
              "      gap: 12px;\n",
              "    }\n",
              "\n",
              "    .colab-df-convert {\n",
              "      background-color: #E8F0FE;\n",
              "      border: none;\n",
              "      border-radius: 50%;\n",
              "      cursor: pointer;\n",
              "      display: none;\n",
              "      fill: #1967D2;\n",
              "      height: 32px;\n",
              "      padding: 0 0 0 0;\n",
              "      width: 32px;\n",
              "    }\n",
              "\n",
              "    .colab-df-convert:hover {\n",
              "      background-color: #E2EBFA;\n",
              "      box-shadow: 0px 1px 2px rgba(60, 64, 67, 0.3), 0px 1px 3px 1px rgba(60, 64, 67, 0.15);\n",
              "      fill: #174EA6;\n",
              "    }\n",
              "\n",
              "    [theme=dark] .colab-df-convert {\n",
              "      background-color: #3B4455;\n",
              "      fill: #D2E3FC;\n",
              "    }\n",
              "\n",
              "    [theme=dark] .colab-df-convert:hover {\n",
              "      background-color: #434B5C;\n",
              "      box-shadow: 0px 1px 3px 1px rgba(0, 0, 0, 0.15);\n",
              "      filter: drop-shadow(0px 1px 2px rgba(0, 0, 0, 0.3));\n",
              "      fill: #FFFFFF;\n",
              "    }\n",
              "  </style>\n",
              "\n",
              "      <script>\n",
              "        const buttonEl =\n",
              "          document.querySelector('#df-e4d3765f-6cec-4234-a20d-7fe6afa94821 button.colab-df-convert');\n",
              "        buttonEl.style.display =\n",
              "          google.colab.kernel.accessAllowed ? 'block' : 'none';\n",
              "\n",
              "        async function convertToInteractive(key) {\n",
              "          const element = document.querySelector('#df-e4d3765f-6cec-4234-a20d-7fe6afa94821');\n",
              "          const dataTable =\n",
              "            await google.colab.kernel.invokeFunction('convertToInteractive',\n",
              "                                                     [key], {});\n",
              "          if (!dataTable) return;\n",
              "\n",
              "          const docLinkHtml = 'Like what you see? Visit the ' +\n",
              "            '<a target=\"_blank\" href=https://colab.research.google.com/notebooks/data_table.ipynb>data table notebook</a>'\n",
              "            + ' to learn more about interactive tables.';\n",
              "          element.innerHTML = '';\n",
              "          dataTable['output_type'] = 'display_data';\n",
              "          await google.colab.output.renderOutput(dataTable, element);\n",
              "          const docLink = document.createElement('div');\n",
              "          docLink.innerHTML = docLinkHtml;\n",
              "          element.appendChild(docLink);\n",
              "        }\n",
              "      </script>\n",
              "    </div>\n",
              "  </div>\n",
              "  "
            ]
          },
          "metadata": {},
          "execution_count": 16
        }
      ]
    },
    {
      "cell_type": "markdown",
      "source": [
        "## 데이터 분석(생략)"
      ],
      "metadata": {
        "id": "V_fUMqcefTWG"
      }
    },
    {
      "cell_type": "markdown",
      "source": [
        "## 모델 구축(성능평가에 중심을 맞춤"
      ],
      "metadata": {
        "id": "aOgVeUsJfTpk"
      }
    },
    {
      "cell_type": "markdown",
      "source": [
        "### 알고리즘 선정\n",
        "\n",
        "- 기존 알고리즘을 활용 or 새로 개발(논문수준)\n",
        "- 성능 평가를 비교해 보기 위해 여러 개 알고리즘을 사용하겠다(가정)"
      ],
      "metadata": {
        "id": "rhFkX9KvfzlK"
      }
    },
    {
      "cell_type": "markdown",
      "source": [
        "- scikit-learn 패키지\n",
        "  - Machine Learning in Python"
      ],
      "metadata": {
        "id": "Sul1UOlZ9Pny"
      }
    },
    {
      "cell_type": "code",
      "source": [
        "from sklearn.linear_model import LogisticRegression # 로지스틱 회귀\n",
        "from sklearn.tree import DecisionTreeClassifier     # 결정트리 분류\n",
        "from sklearn.ensemble import RandomForestClassifier # 앙상블/ 랜덤포레스트\n",
        "from sklearn.naive_bayes import GaussianNB          # 나이브베이스\n",
        "from sklearn.svm import SVC                         # 서퍼트백터머신 분류"
      ],
      "metadata": {
        "id": "uk4DNKzx7CQH"
      },
      "execution_count": null,
      "outputs": []
    },
    {
      "cell_type": "code",
      "source": [
        "# 평가 도구\n",
        "# roc_curve : 곡선하면적 : 참긍정비율과 거짓긍정비율에 대한 표현\n",
        "from sklearn.metrics import auc, roc_auc_score, roc_curve"
      ],
      "metadata": {
        "id": "EvGiwaZb9Vb5"
      },
      "execution_count": null,
      "outputs": []
    },
    {
      "cell_type": "markdown",
      "source": [
        "### 데이터 준비(훈련용, 테스트용)\n",
        "\n",
        "- 높은 성과를 내기 위해서 사용자의 역량이 필요하다"
      ],
      "metadata": {
        "id": "RCheboslf7vC"
      }
    },
    {
      "cell_type": "code",
      "source": [
        "# 현제 데이터는 정답별로 뭉쳐있다 => 섞을 필요가 있다(랜덤하게)\n",
        "# 랜덤에 대한 시드(seed) 조정, 씨드가 동일하면, 항상 나오는 난수 패턴도 동일하다\n",
        "# ex) seed 가 0\n",
        "#     난수 1, 2, 3, 4, 5.... 나온다고 가정\n",
        "#     10년후 동일하게 작동시키면 똑같인 1, 2, 3, 4, 5... 발생된다 => 재현성\n",
        "# 대부분 난수는 현재 시간을 씨드로 사용한다 -> 재현되지 않는다"
      ],
      "metadata": {
        "id": "OM4akaUp91za"
      },
      "execution_count": null,
      "outputs": []
    },
    {
      "cell_type": "code",
      "source": [
        "# 데이터를 섞어서 특정 비율(훈련용, 테스트용)로 분류해서 제공하는 함수\n",
        "from sklearn.model_selection import train_test_split"
      ],
      "metadata": {
        "id": "4QfwEvMG-rtG"
      },
      "execution_count": null,
      "outputs": []
    },
    {
      "cell_type": "code",
      "source": [
        "df.head(1)"
      ],
      "metadata": {
        "colab": {
          "base_uri": "https://localhost:8080/",
          "height": 81
        },
        "id": "p0AP3EW0S-wB",
        "outputId": "d836c33b-497f-410d-908c-6250db0110d8"
      },
      "execution_count": null,
      "outputs": [
        {
          "output_type": "execute_result",
          "data": {
            "text/plain": [
              "   sepal length (cm)  sepal width (cm)  petal length (cm)  petal width (cm)  \\\n",
              "0                5.1               3.5                1.4               0.2   \n",
              "\n",
              "   species  \n",
              "0        0  "
            ],
            "text/html": [
              "\n",
              "  <div id=\"df-2196ad64-4da0-44b1-9913-e0eceaa26937\">\n",
              "    <div class=\"colab-df-container\">\n",
              "      <div>\n",
              "<style scoped>\n",
              "    .dataframe tbody tr th:only-of-type {\n",
              "        vertical-align: middle;\n",
              "    }\n",
              "\n",
              "    .dataframe tbody tr th {\n",
              "        vertical-align: top;\n",
              "    }\n",
              "\n",
              "    .dataframe thead th {\n",
              "        text-align: right;\n",
              "    }\n",
              "</style>\n",
              "<table border=\"1\" class=\"dataframe\">\n",
              "  <thead>\n",
              "    <tr style=\"text-align: right;\">\n",
              "      <th></th>\n",
              "      <th>sepal length (cm)</th>\n",
              "      <th>sepal width (cm)</th>\n",
              "      <th>petal length (cm)</th>\n",
              "      <th>petal width (cm)</th>\n",
              "      <th>species</th>\n",
              "    </tr>\n",
              "  </thead>\n",
              "  <tbody>\n",
              "    <tr>\n",
              "      <th>0</th>\n",
              "      <td>5.1</td>\n",
              "      <td>3.5</td>\n",
              "      <td>1.4</td>\n",
              "      <td>0.2</td>\n",
              "      <td>0</td>\n",
              "    </tr>\n",
              "  </tbody>\n",
              "</table>\n",
              "</div>\n",
              "      <button class=\"colab-df-convert\" onclick=\"convertToInteractive('df-2196ad64-4da0-44b1-9913-e0eceaa26937')\"\n",
              "              title=\"Convert this dataframe to an interactive table.\"\n",
              "              style=\"display:none;\">\n",
              "        \n",
              "  <svg xmlns=\"http://www.w3.org/2000/svg\" height=\"24px\"viewBox=\"0 0 24 24\"\n",
              "       width=\"24px\">\n",
              "    <path d=\"M0 0h24v24H0V0z\" fill=\"none\"/>\n",
              "    <path d=\"M18.56 5.44l.94 2.06.94-2.06 2.06-.94-2.06-.94-.94-2.06-.94 2.06-2.06.94zm-11 1L8.5 8.5l.94-2.06 2.06-.94-2.06-.94L8.5 2.5l-.94 2.06-2.06.94zm10 10l.94 2.06.94-2.06 2.06-.94-2.06-.94-.94-2.06-.94 2.06-2.06.94z\"/><path d=\"M17.41 7.96l-1.37-1.37c-.4-.4-.92-.59-1.43-.59-.52 0-1.04.2-1.43.59L10.3 9.45l-7.72 7.72c-.78.78-.78 2.05 0 2.83L4 21.41c.39.39.9.59 1.41.59.51 0 1.02-.2 1.41-.59l7.78-7.78 2.81-2.81c.8-.78.8-2.07 0-2.86zM5.41 20L4 18.59l7.72-7.72 1.47 1.35L5.41 20z\"/>\n",
              "  </svg>\n",
              "      </button>\n",
              "      \n",
              "  <style>\n",
              "    .colab-df-container {\n",
              "      display:flex;\n",
              "      flex-wrap:wrap;\n",
              "      gap: 12px;\n",
              "    }\n",
              "\n",
              "    .colab-df-convert {\n",
              "      background-color: #E8F0FE;\n",
              "      border: none;\n",
              "      border-radius: 50%;\n",
              "      cursor: pointer;\n",
              "      display: none;\n",
              "      fill: #1967D2;\n",
              "      height: 32px;\n",
              "      padding: 0 0 0 0;\n",
              "      width: 32px;\n",
              "    }\n",
              "\n",
              "    .colab-df-convert:hover {\n",
              "      background-color: #E2EBFA;\n",
              "      box-shadow: 0px 1px 2px rgba(60, 64, 67, 0.3), 0px 1px 3px 1px rgba(60, 64, 67, 0.15);\n",
              "      fill: #174EA6;\n",
              "    }\n",
              "\n",
              "    [theme=dark] .colab-df-convert {\n",
              "      background-color: #3B4455;\n",
              "      fill: #D2E3FC;\n",
              "    }\n",
              "\n",
              "    [theme=dark] .colab-df-convert:hover {\n",
              "      background-color: #434B5C;\n",
              "      box-shadow: 0px 1px 3px 1px rgba(0, 0, 0, 0.15);\n",
              "      filter: drop-shadow(0px 1px 2px rgba(0, 0, 0, 0.3));\n",
              "      fill: #FFFFFF;\n",
              "    }\n",
              "  </style>\n",
              "\n",
              "      <script>\n",
              "        const buttonEl =\n",
              "          document.querySelector('#df-2196ad64-4da0-44b1-9913-e0eceaa26937 button.colab-df-convert');\n",
              "        buttonEl.style.display =\n",
              "          google.colab.kernel.accessAllowed ? 'block' : 'none';\n",
              "\n",
              "        async function convertToInteractive(key) {\n",
              "          const element = document.querySelector('#df-2196ad64-4da0-44b1-9913-e0eceaa26937');\n",
              "          const dataTable =\n",
              "            await google.colab.kernel.invokeFunction('convertToInteractive',\n",
              "                                                     [key], {});\n",
              "          if (!dataTable) return;\n",
              "\n",
              "          const docLinkHtml = 'Like what you see? Visit the ' +\n",
              "            '<a target=\"_blank\" href=https://colab.research.google.com/notebooks/data_table.ipynb>data table notebook</a>'\n",
              "            + ' to learn more about interactive tables.';\n",
              "          element.innerHTML = '';\n",
              "          dataTable['output_type'] = 'display_data';\n",
              "          await google.colab.output.renderOutput(dataTable, element);\n",
              "          const docLink = document.createElement('div');\n",
              "          docLink.innerHTML = docLinkHtml;\n",
              "          element.appendChild(docLink);\n",
              "        }\n",
              "      </script>\n",
              "    </div>\n",
              "  </div>\n",
              "  "
            ]
          },
          "metadata": {},
          "execution_count": 20
        }
      ]
    },
    {
      "cell_type": "code",
      "source": [
        "# X의 shape이 (150,4)가 되도록 데이터를 추출하시오\n",
        "# 컬럼은 처음부터 4개까지만 추출\n",
        "X = df.iloc[:, : -1]\n",
        "X.shape"
      ],
      "metadata": {
        "colab": {
          "base_uri": "https://localhost:8080/"
        },
        "id": "CIdpXJS1S7QE",
        "outputId": "471cb637-901a-404b-8f9e-f69b82e48b5c"
      },
      "execution_count": null,
      "outputs": [
        {
          "output_type": "execute_result",
          "data": {
            "text/plain": [
              "(150, 4)"
            ]
          },
          "metadata": {},
          "execution_count": 22
        }
      ]
    },
    {
      "cell_type": "code",
      "source": [
        "# species의 중복되지 않는 총 개수(종류의 수)는?\n",
        "# 정답의 갯수가 2개 이상이므로, 다항의 문제\n",
        "df.species.unique()"
      ],
      "metadata": {
        "colab": {
          "base_uri": "https://localhost:8080/"
        },
        "id": "G9pdItyaUF93",
        "outputId": "60adb8e5-237a-40f6-9b8b-f3d580f97b76"
      },
      "execution_count": null,
      "outputs": [
        {
          "output_type": "execute_result",
          "data": {
            "text/plain": [
              "array([0, 1, 2])"
            ]
          },
          "metadata": {},
          "execution_count": 26
        }
      ]
    },
    {
      "cell_type": "code",
      "source": [
        "# 이제 정답은 Versicolour 이면 True, 아니면 False로 변경되었다\n",
        "y = df.species == 1"
      ],
      "metadata": {
        "id": "upf7j6asVBvl"
      },
      "execution_count": null,
      "outputs": []
    },
    {
      "cell_type": "code",
      "source": [
        "'''\n",
        "  X : 데이터 덩어리중 독립변수들이 있는 데이터 2차원\n",
        "  y : 데이터 덩어리중 종속변수들이 있는 데이터 1차원\n",
        "  test_size : 테스트 데이터 비율 0.8 => 80%\n",
        "              테스트 데이터를 늘려서 좀 더 많은 결과를 보려고 임의로 조정\n",
        "  random_state : 난수 씨드\n",
        "'''\n",
        "train_X, test_X, train_y, test_y = train_test_split( X, y,\n",
        "                                                    test_size=0.8,random_state=1 )"
      ],
      "metadata": {
        "id": "zjMbKMqu_B9y"
      },
      "execution_count": null,
      "outputs": []
    },
    {
      "cell_type": "code",
      "source": [
        "train_X.shape, test_X.shape, train_y.shape, test_y.shape"
      ],
      "metadata": {
        "colab": {
          "base_uri": "https://localhost:8080/"
        },
        "id": "Sf6dQOOsVxJl",
        "outputId": "57f597aa-7ff9-407e-8bf5-595afdd57d05"
      },
      "execution_count": null,
      "outputs": [
        {
          "output_type": "execute_result",
          "data": {
            "text/plain": [
              "((30, 4), (120, 4), (30,), (120,))"
            ]
          },
          "metadata": {},
          "execution_count": 29
        }
      ]
    },
    {
      "cell_type": "markdown",
      "source": [
        "위쪽은 커스텀 가능\n",
        "\n",
        "---\n",
        "아래쪽은 기계적으로 조합을 *찾음*\n"
      ],
      "metadata": {
        "id": "YJyOkGMHhfnY"
      }
    },
    {
      "cell_type": "markdown",
      "source": [
        "### 훈련-예측-성능 평가 동시연속적 진행\n",
        "- 훈련, 예측, 평가 등 3개의 공정은 알고리즘 별로 반복적으로 진행해 시각화한다"
      ],
      "metadata": {
        "id": "t50foSDPWkj2"
      }
    },
    {
      "cell_type": "markdown",
      "source": [
        "#### 훈련(fit)"
      ],
      "metadata": {
        "id": "Rboq97iDf8BV"
      }
    },
    {
      "cell_type": "markdown",
      "source": [
        "### 예측(테스트 데이터를 사용)"
      ],
      "metadata": {
        "id": "8ayx2Zpif8RG"
      }
    },
    {
      "cell_type": "markdown",
      "source": [
        "### 성능평가(예측값 해석)"
      ],
      "metadata": {
        "id": "8usfgZVSf8gc"
      }
    },
    {
      "cell_type": "code",
      "source": [
        "# 알고리즘 덩어리\n",
        "'''\n",
        "from sklearn.linear_model import LogisticRegression # 로지스틱 회귀\n",
        "from sklearn.tree import DecisionTreeClassifier     # 결정트리 분류\n",
        "from sklearn.ensemble import RandomForestClassifier # 앙상블/ 랜덤포레스트\n",
        "from sklearn.naive_bayes import GaussianNB          # 나이브베이스\n",
        "from sklearn.svm import SVC                         # 서퍼트백터머신 분류\n",
        "'''\n",
        "als = {\n",
        "    #'알고리즘명' : ('선의모양', '알고리즘 개체')\n",
        "    'LogisticRegression'    :('-', LogisticRegression() ),\n",
        "    'DecisionTreeClassifier':('--', DecisionTreeClassifier(max_depth=5) ),\n",
        "    'RandomForestClassifier':('.-', RandomForestClassifier(max_depth=5, max_features=1, n_estimators = 10) ),\n",
        "    'GaussianNB'            :('--', GaussianNB() ),\n",
        "#    'SVC'                   :('-', SVC() ),\n",
        "}"
      ],
      "metadata": {
        "id": "uga_J7miXS-l"
      },
      "execution_count": null,
      "outputs": []
    },
    {
      "cell_type": "code",
      "source": [
        "als"
      ],
      "metadata": {
        "colab": {
          "base_uri": "https://localhost:8080/"
        },
        "id": "dCjJ3CJcZICY",
        "outputId": "b8c90b26-e5db-48b1-c45f-d18aeb7eb298"
      },
      "execution_count": null,
      "outputs": [
        {
          "output_type": "execute_result",
          "data": {
            "text/plain": [
              "{'DecisionTreeClassifier': ('--', DecisionTreeClassifier(max_depth=5)),\n",
              " 'GaussianNB': (':-', GaussianNB()),\n",
              " 'LogisticRegression': ('-', LogisticRegression()),\n",
              " 'RandomForestClassifier': ('.-',\n",
              "  RandomForestClassifier(max_depth=5, max_features=1, n_estimators=10)),\n",
              " 'SVC': ('-', SVC())}"
            ]
          },
          "metadata": {},
          "execution_count": 31
        }
      ]
    },
    {
      "cell_type": "code",
      "source": [
        "# 5개을 알고리즘 테스트\n",
        "#for  in 알고리즘덩어리: \n",
        "# 처음부터 키와 값이 같이 나오면 좋겟다\n",
        "for name, ( lineStyle, model ) in als.items(): \n",
        "  # 훈련 ( 알고리즘.fit() )\n",
        "  model.fit( train_X, train_y )\n",
        "  # 예측\n",
        "  # predict_proba(): 예측결과 확률이 높은쪽으로 편향시켜서 예측하는 방법\n",
        "  # predict_proba 각 샘플에 대헤서 어느쪽 클레스(정답)에 속할지 확률로 표현\n",
        "  pred = model.predict_proba( test_X ) \n",
        "  #print( pred )\n",
        "  # 평가\n",
        "  # pred를 test_y와 동일한 타입으로 변경하겟다\n",
        "  # pred를 다 가져와서, 2차원에서 두번째 요소만 획득하여 시리즈 생성(차원축소)\n",
        "  pred_s = pd.Series( pred[ : , 1] )\n",
        "  # test_y는 Series\n",
        "  #print( test_y )\n",
        "  #print( test_y.shape )\n",
        "  #print( '-'*50 )\n",
        "  # pred (120, 2) ndarray : 2차 배열 -> 2차 행렬 => 2차 텐서\n",
        "  # 배열(ndarray)은 타입이 동일하다!!\n",
        "  #print( type( pred ), pred.shape, pred )\n",
        "  # 시각화\n",
        "  print( name, lineStyle, model )\n",
        "  break"
      ],
      "metadata": {
        "colab": {
          "base_uri": "https://localhost:8080/"
        },
        "id": "VDe3dBpPXKyp",
        "outputId": "aba52147-b2c8-41da-98f6-fe46e865f990"
      },
      "execution_count": null,
      "outputs": [
        {
          "output_type": "stream",
          "name": "stdout",
          "text": [
            "LogisticRegression - LogisticRegression()\n"
          ]
        }
      ]
    },
    {
      "cell_type": "code",
      "source": [
        "als = {\n",
        "  'LogisticRegression'    :( '-',  LogisticRegression() ),\n",
        "  'DecisionTreeClassifier':( '--', DecisionTreeClassifier(max_depth=5) ),\n",
        "  'RandomForestClassifier':( '.-', RandomForestClassifier(max_depth=5, max_features=1, n_estimators=10) ),\n",
        "  'GaussianNB'            :( '--', GaussianNB() ),  \n",
        "}\n",
        "for name, ( lineStyle, model ) in als.items():   \n",
        "  model.fit( train_X, train_y )\n",
        "  pred_y = model.predict( test_X )\n",
        "  print( pred_y )\n",
        "  break"
      ],
      "metadata": {
        "colab": {
          "base_uri": "https://localhost:8080/"
        },
        "id": "rYHh1CCThzZV",
        "outputId": "10e27a74-6fde-45c0-c4f3-9c4618e22319"
      },
      "execution_count": null,
      "outputs": [
        {
          "output_type": "stream",
          "name": "stdout",
          "text": [
            "[False  True False False False False  True False False  True  True False\n",
            "  True False  True False  True False False False  True False  True False\n",
            "  True False False False  True  True False  True  True  True  True False\n",
            "  True False  True  True  True False  True  True  True  True False False\n",
            " False False False False False  True  True  True  True False  True False\n",
            " False  True  True False False  True False False False False  True False\n",
            " False False  True  True  True  True False  True False False False False\n",
            " False  True  True False False False  True False  True  True  True  True\n",
            "  True False False False False  True False  True  True False  True False\n",
            " False False  True  True False False False False  True False  True  True]\n"
          ]
        }
      ]
    },
    {
      "cell_type": "code",
      "source": [
        "als = {\n",
        "  #'알고리즘명':( '선의모양', 알고리즘객체 )    \n",
        "  'LogisticRegression'    :( '-',  LogisticRegression() ),\n",
        "  'DecisionTreeClassifier':( '--', DecisionTreeClassifier(max_depth=5) ),\n",
        "  'RandomForestClassifier':( '.-', RandomForestClassifier(max_depth=5, max_features=1, n_estimators=10) ),\n",
        "  'GaussianNB'            :( '--', GaussianNB() ),\n",
        "  #'SVC'                   :( '-',  SVC() ),\n",
        "}\n",
        "for name, ( lineStyle, model ) in als.items(): \n",
        "  # 학습\n",
        "  model.fit( train_X, train_y )\n",
        "  # 예측\n",
        "  pred   = model.predict_proba( test_X ) \n",
        "  # 예측결과를 타입 변환, 특정값 선택\n",
        "  pred_s = pd.Series( pred[ : , 1] )\n",
        "  # 평가 지표 획득\n",
        "  # 거짓긍정비율, 참긍정비율, \n",
        "  # _는 통상적으로 값을 받아는 주는데, 사용하지 않을 경우(자리만차지함)\n",
        "  # 관습적으로 사용하는 표현이다\n",
        "  fpr, tpr, _ = roc_curve( test_y, pred_s )\n",
        "  # x축을 fpr, y축을 tpr 기준으로 그리면 roc 차트가 완성된다\n",
        "  plt.plot( fpr, tpr, lineStyle, linewidth=2, label=name )\n",
        "  #break\n",
        "  # 실제수치를 대비해서 비교하는게 힘들다\n",
        "  print( name, auc( fpr, tpr ) )\n",
        "\n",
        "# 범례노출\n",
        "plt.legend()\n",
        "# 축의 이름\n",
        "plt.xlabel('False Positive Rate')\n",
        "plt.ylabel('True Positive Rate')\n",
        "plt.show()\n",
        "# auc 수치 비교 결과 GaussianNB 가장 높은 점수를 받았다\n",
        "# GaussianNB 최우선 알고리즘으로 선정하여서 최적화 작업 진행하고,\n",
        "# n배수 이상 후보군을 잡는다면 하위 n개까지 선정해서 최적화 진행"
      ],
      "metadata": {
        "colab": {
          "base_uri": "https://localhost:8080/",
          "height": 352
        },
        "outputId": "abf12628-738b-4775-c6dc-5b2d67581908",
        "id": "Ckb2Xsf9oWoJ"
      },
      "execution_count": null,
      "outputs": [
        {
          "output_type": "stream",
          "name": "stdout",
          "text": [
            "LogisticRegression 0.6704656463692609\n",
            "DecisionTreeClassifier 0.926245522631065\n",
            "RandomForestClassifier 0.9651579290133506\n",
            "GaussianNB 0.9827417779225008\n"
          ]
        },
        {
          "output_type": "display_data",
          "data": {
            "text/plain": [
              "<Figure size 432x288 with 1 Axes>"
            ],
            "image/png": "[encoded data removed]"
          },
          "metadata": {
            "needs_background": "light"
          }
        }
      ]
    },
    {
      "cell_type": "code",
      "source": [
        "from sklearn.metrics import accuracy_score, classification_report\n",
        "als = {\n",
        "  'LogisticRegression'    :( '-',  LogisticRegression() ),\n",
        "  'DecisionTreeClassifier':( '--', DecisionTreeClassifier(max_depth=5) ),\n",
        "  'RandomForestClassifier':( '.-', RandomForestClassifier(max_depth=5, max_features=1, n_estimators=10) ),\n",
        "  'GaussianNB'            :( '--', GaussianNB() ),  \n",
        "}\n",
        "top_level_acc  = 0\n",
        "top_level_name = None\n",
        "for name, ( lineStyle, model ) in als.items():   \n",
        "  model.fit( train_X, train_y )\n",
        "  pred_y = model.predict( test_X )\n",
        "  # 정확도가 가장 높은 알고리즘 및 수치값들만, 출력하시오\n",
        "  cur_acc = accuracy_score( test_y, pred_y )\n",
        "  # top_level_acc가 cur_acc(새로운 알고리즘) 낮으면 갱신된다\n",
        "  if cur_acc > top_level_acc :\n",
        "    top_level_acc  = cur_acc\n",
        "    top_level_name = [ name, classification_report( test_y, pred_y ) ]\n",
        "\n",
        "print( '최대 정확도', top_level_acc, top_level_name[0] ) \n",
        "print( top_level_name[1] )\n",
        "    \n",
        "    #print( name )\n",
        "    #print( '정확도', accuracy_score( test_y, pred_y ) )\n",
        "    #print( '분류 레포트\\n', classification_report( test_y, pred_y ))\n",
        "    #break\n",
        "    #print( '-'*50 )"
      ],
      "metadata": {
        "colab": {
          "base_uri": "https://localhost:8080/"
        },
        "id": "CeTjrNuloVRq",
        "outputId": "a4ff2e79-cd88-40d3-cd28-9ab29ff75103"
      },
      "execution_count": null,
      "outputs": [
        {
          "output_type": "stream",
          "name": "stdout",
          "text": [
            "최대 정확도 0.95 RandomForestClassifier\n",
            "              precision    recall  f1-score   support\n",
            "\n",
            "       False       0.96      0.96      0.96        83\n",
            "        True       0.92      0.92      0.92        37\n",
            "\n",
            "    accuracy                           0.95       120\n",
            "   macro avg       0.94      0.94      0.94       120\n",
            "weighted avg       0.95      0.95      0.95       120\n",
            "\n"
          ]
        }
      ]
    },
    {
      "cell_type": "markdown",
      "source": [
        "### 최적화(하이퍼파라미터튜닝, 교차검증, 파이프라인 구축)"
      ],
      "metadata": {
        "id": "hklN8hp3f8zV"
      }
    },
    {
      "cell_type": "markdown",
      "source": [
        "### 모델 덤프(덤프파일, 정답파일, 사용함수(모듈))"
      ],
      "metadata": {
        "id": "OlgHKo-vgaVx"
      }
    },
    {
      "cell_type": "markdown",
      "source": [
        "# 시스템 통합(생략)"
      ],
      "metadata": {
        "id": "-AjWx5FOga9B"
      }
    },
    {
      "cell_type": "markdown",
      "source": [
        "# 새 섹션"
      ],
      "metadata": {
        "id": "h-P9vx1zgaqF"
      }
    }
  ]
}